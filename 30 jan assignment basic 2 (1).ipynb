{
 "cells": [
  {
   "cell_type": "markdown",
   "id": "1d442fe9-0762-44e5-bd0d-ce978e07e9e9",
   "metadata": {},
   "source": [
    "1. Write a program to accept percentage from the user and display the grade according to the following critaria:\n",
    "    \n",
    "    marks                          grade\n",
    "    ,>90                            A\n",
    "    ,>80 and <=90                   B\n",
    "    ,>=60 and <=80                  C\n",
    "    ,below 60                       D\n",
    "    "
   ]
  },
  {
   "cell_type": "code",
   "execution_count": 1,
   "id": "d960496b-56da-4e09-80ac-ee6e75c453c6",
   "metadata": {},
   "outputs": [
    {
     "name": "stdin",
     "output_type": "stream",
     "text": [
      "Enter your marks 75\n"
     ]
    },
    {
     "name": "stdout",
     "output_type": "stream",
     "text": [
      " C grade \n"
     ]
    }
   ],
   "source": [
    "mark=int(input(\"Enter your marks\"))\n",
    "if mark>90:\n",
    "    print(\" A grade \")\n",
    "elif mark>80 and mark<=90:\n",
    "    print(\" B grade \")\n",
    "elif mark>=60 and mark<=80:\n",
    "    print(\" C grade \")\n",
    "elif mark<60:\n",
    "    print(\" D grade \")"
   ]
  },
  {
   "cell_type": "markdown",
   "id": "a3fece98-698b-45db-a26e-2d4fc53468c2",
   "metadata": {},
   "source": [
    "2. Write a program to accept the cost price of a bike and display the rood tax to be paid according to the following criteria:\n",
    "\n",
    "    Tax                                        Cost Price(in Rs)\n",
    "    ,15%                                         >100000\n",
    "    ,10%                                         >50000 and <=100000\n",
    "    ,5%                                          <= 50000"
   ]
  },
  {
   "cell_type": "code",
   "execution_count": 3,
   "id": "674df9b1-df04-4322-9216-e3d83fc5dfae",
   "metadata": {},
   "outputs": [
    {
     "name": "stdin",
     "output_type": "stream",
     "text": [
      "Enter your cost price of bike 75121\n"
     ]
    },
    {
     "name": "stdout",
     "output_type": "stream",
     "text": [
      "Tax = 10%\n"
     ]
    }
   ],
   "source": [
    "cost_price= int(input(\"Enter your cost price of bike\"))\n",
    "if cost_price>100000:\n",
    "    print(\"Tax = 15%\")\n",
    "elif cost_price>50000 and cost_price<=100000:\n",
    "    print(\"Tax = 10%\")\n",
    "elif cost_price<=50000:\n",
    "    print(\"Tax = 5%\")"
   ]
  },
  {
   "cell_type": "markdown",
   "id": "729dc9dd-6127-454d-ac22-f197fb52a995",
   "metadata": {},
   "source": [
    "3 Accept any city from the user and display menumants of that city.\n",
    "\n",
    "    city                                  Monument\n",
    "    Delhi                                 Red Fort\n",
    "    Agra                                  Taj Mahal\n",
    "    Jaipur                                Jal Mahal\n"
   ]
  },
  {
   "cell_type": "code",
   "execution_count": 5,
   "id": "0e6a2228-7b3e-44d5-8439-0ff5301a357a",
   "metadata": {},
   "outputs": [
    {
     "name": "stdin",
     "output_type": "stream",
     "text": [
      "Enter city name Agra\n"
     ]
    },
    {
     "name": "stdout",
     "output_type": "stream",
     "text": [
      "Taj Mahal\n"
     ]
    }
   ],
   "source": [
    "city=str(input(\"Enter city name\"))\n",
    "if city=='Delhi':\n",
    "    print(\"Red Fort\")\n",
    "elif city=='Agra':\n",
    "    print(\"Taj Mahal\")\n",
    "elif city=='Jaipur':\n",
    "    print(\"Jal Mahal\")\n"
   ]
  },
  {
   "cell_type": "markdown",
   "id": "698c5dd0-bb1e-4c48-b568-67cb6abd6951",
   "metadata": {},
   "source": [
    "4. Check how many times a given number can be divided by 3 before it is less than or equal to 10.\n"
   ]
  },
  {
   "cell_type": "code",
   "execution_count": 7,
   "id": "9df687ee-c36c-4f47-8ada-c717e0f1faca",
   "metadata": {},
   "outputs": [
    {
     "name": "stdout",
     "output_type": "stream",
     "text": [
      "Total iteration required 4\n"
     ]
    }
   ],
   "source": [
    "count = 0\n",
    "number = 400\n",
    "while number > 10:\n",
    "    number = number / 3\n",
    "    count = count + 1\n",
    "print('Total iteration required', count)"
   ]
  },
  {
   "cell_type": "markdown",
   "id": "fd8d1836-c1ca-4d67-9fe6-9f00458ed08a",
   "metadata": {},
   "source": [
    "5. Why and When to Use while Loop in Pythen give a detailed description with example\n"
   ]
  },
  {
   "cell_type": "code",
   "execution_count": 8,
   "id": "8322788c-9ae5-4071-8a58-064eaada66ef",
   "metadata": {},
   "outputs": [
    {
     "name": "stdout",
     "output_type": "stream",
     "text": [
      "1\n",
      "2\n",
      "3\n",
      "4\n"
     ]
    }
   ],
   "source": [
    "# A While loop in Python allows a part of the code to be executed repeatedly as long as a given condition is true.\n",
    "# The While loop in Python is also called a pre-tested loop.\n",
    "# It is typically used when the number of iterations is not known\n",
    "\n",
    "# Example\n",
    "i = 1\n",
    "while i < 5 :\n",
    "    print(i)\n",
    "    i += 1"
   ]
  },
  {
   "cell_type": "markdown",
   "id": "f3cefae0-6bef-45a3-a0ae-40e5006982a2",
   "metadata": {},
   "source": [
    "6. Use nested while loop to print 3 different pattern."
   ]
  },
  {
   "cell_type": "code",
   "execution_count": 10,
   "id": "77847d58-61d1-4379-ae8d-386e859aafdc",
   "metadata": {},
   "outputs": [
    {
     "name": "stdin",
     "output_type": "stream",
     "text": [
      "Enter number of rows :  5\n"
     ]
    },
    {
     "name": "stdout",
     "output_type": "stream",
     "text": [
      "* \n",
      "* * \n",
      "* * * \n",
      "* * * * \n",
      "* * * * * \n"
     ]
    }
   ],
   "source": [
    "# Pattern 1\n",
    "n = int(input('Enter number of rows : ')) \n",
    "i = 1\n",
    "while i <= n :\n",
    "    j = 1\n",
    "    while j <= i:\n",
    "        print(\"*\", end = \" \")\n",
    "        j += 1\n",
    "    print()\n",
    "    i += 1\n",
    "    "
   ]
  },
  {
   "cell_type": "code",
   "execution_count": 12,
   "id": "597b427b-287d-4848-bb91-b32ece9b7619",
   "metadata": {},
   "outputs": [
    {
     "name": "stdin",
     "output_type": "stream",
     "text": [
      "Enter number of rows :  6\n"
     ]
    },
    {
     "name": "stdout",
     "output_type": "stream",
     "text": [
      "  1 \n",
      "  2   3 \n",
      "  4   5   6 \n",
      "  7   8   9  10 \n",
      " 11  12  13  14  15 \n",
      " 16  17  18  19  20  21 \n"
     ]
    }
   ],
   "source": [
    "# Patrern 2  \n",
    "n = int(input('Enter number of rows : '))\n",
    " \n",
    "k = 1\n",
    "i = 1\n",
    "while i <= n :\n",
    "    j = 1\n",
    "    while j <= i:\n",
    "        print(\"{:3d}\".format(k), end = \" \")\n",
    "        j += 1\n",
    "        k += 1\n",
    "    print()\n",
    "    i += 1"
   ]
  },
  {
   "cell_type": "code",
   "execution_count": 16,
   "id": "70b0b63e-960a-4237-9b0f-f514b484c953",
   "metadata": {},
   "outputs": [
    {
     "name": "stdout",
     "output_type": "stream",
     "text": [
      "**********\n",
      "****  ****\n",
      "***    ***\n",
      "**      **\n",
      "*        *\n"
     ]
    }
   ],
   "source": [
    "# Pattern 3   \n",
    "rows = 10\n",
    "print(\"*\" * rows, end=\"\\n\")\n",
    "i = (rows // 2) - 1\n",
    "j = 2\n",
    "while i != 0:\n",
    "    while j <= (rows - 2):\n",
    "        print(\"*\" * i, end=\"\")\n",
    "        print(\" \" * j, end=\"\")\n",
    "        print(\"*\" * i, end=\"\\n\")\n",
    "        i = i - 1\n",
    "        j = j + 2"
   ]
  },
  {
   "cell_type": "markdown",
   "id": "1451c77c-f919-48e1-a0fc-aaf6898e5697",
   "metadata": {},
   "source": [
    "7. Reverse a while loop to display numbers from 10 to 1\n"
   ]
  },
  {
   "cell_type": "code",
   "execution_count": 17,
   "id": "ce5803bb-5a53-4c9e-b522-8cceb2c182aa",
   "metadata": {},
   "outputs": [
    {
     "name": "stdout",
     "output_type": "stream",
     "text": [
      "10\n",
      "9\n",
      "8\n",
      "7\n",
      "6\n",
      "5\n",
      "4\n",
      "3\n",
      "2\n",
      "1\n"
     ]
    }
   ],
   "source": [
    "i=10\n",
    "while i>0:\n",
    "    print(i)\n",
    "    i-=1"
   ]
  },
  {
   "cell_type": "code",
   "execution_count": null,
   "id": "9ca993a7-6a77-4d48-8a37-031a4a8eb921",
   "metadata": {},
   "outputs": [],
   "source": []
  }
 ],
 "metadata": {
  "kernelspec": {
   "display_name": "Python 3 (ipykernel)",
   "language": "python",
   "name": "python3"
  },
  "language_info": {
   "codemirror_mode": {
    "name": "ipython",
    "version": 3
   },
   "file_extension": ".py",
   "mimetype": "text/x-python",
   "name": "python",
   "nbconvert_exporter": "python",
   "pygments_lexer": "ipython3",
   "version": "3.10.8"
  }
 },
 "nbformat": 4,
 "nbformat_minor": 5
}
