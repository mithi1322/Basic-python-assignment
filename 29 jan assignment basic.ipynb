{
 "cells": [
  {
   "cell_type": "markdown",
   "id": "a19afe01-92ff-40b2-99a9-1625e580c7ff",
   "metadata": {},
   "source": [
    "1. Who developed Python Programming Language?"
   ]
  },
  {
   "cell_type": "code",
   "execution_count": 1,
   "id": "d221827a-fcf6-48d6-8411-9091982894de",
   "metadata": {},
   "outputs": [],
   "source": [
    "# Answer: Guido van Rossum"
   ]
  },
  {
   "cell_type": "markdown",
   "id": "6aaca109-a3a5-4996-aa05-e58c95a0b7e7",
   "metadata": {},
   "source": [
    "2. Which type of Programming does Python support?"
   ]
  },
  {
   "cell_type": "code",
   "execution_count": 2,
   "id": "73e65674-96e5-4f0e-b606-b6012cdfa5d4",
   "metadata": {},
   "outputs": [],
   "source": [
    "# Answer: Python programming support object-oriented, structured, and functional programming "
   ]
  },
  {
   "cell_type": "markdown",
   "id": "7c2f92b0-d600-43d2-8ed3-63befb5adc2f",
   "metadata": {},
   "source": [
    "3. Is Python case sensitive when dealing with identifiers?"
   ]
  },
  {
   "cell_type": "code",
   "execution_count": 3,
   "id": "0fedc0b4-7448-40c1-a90f-7bdaeaa189a9",
   "metadata": {},
   "outputs": [],
   "source": [
    "# Answer: Yes, Python is case sensitive when dealing with identifiers"
   ]
  },
  {
   "cell_type": "markdown",
   "id": "9666367b-f2af-4b91-b9b6-d0378fcc3bb0",
   "metadata": {},
   "source": [
    "4. What is the correct extension of the Python file?"
   ]
  },
  {
   "cell_type": "code",
   "execution_count": 4,
   "id": "ecc8e3c4-9587-48a8-a37c-0dc80a360647",
   "metadata": {},
   "outputs": [],
   "source": [
    "# Answer: The extensions for Python files are (.py)"
   ]
  },
  {
   "cell_type": "markdown",
   "id": "11dda7fa-e8a6-4892-b699-3909cbb973dd",
   "metadata": {},
   "source": [
    "5. Is Python code compiled or interpreted?"
   ]
  },
  {
   "cell_type": "code",
   "execution_count": 14,
   "id": "ac160a5c-4202-43d2-879d-55bf2105030a",
   "metadata": {},
   "outputs": [],
   "source": [
    "# Answer: Python is an interpreted language"
   ]
  },
  {
   "cell_type": "markdown",
   "id": "f722351d-2d4b-4eb6-8764-9d86ba7f9c96",
   "metadata": {},
   "source": [
    "6. Name a few blocks of code used to define in Python language?"
   ]
  },
  {
   "cell_type": "code",
   "execution_count": 5,
   "id": "9f41e096-da26-41fd-ac3e-33de49585405",
   "metadata": {},
   "outputs": [],
   "source": [
    "# Answer: The name blocks of code used in python language is : a module, a function body, and a class definition"
   ]
  },
  {
   "cell_type": "markdown",
   "id": "8c8f26e7-f95a-482f-b6ec-a64c00b8af0d",
   "metadata": {},
   "source": [
    "7. State a character used to give single-line comments in Python?"
   ]
  },
  {
   "cell_type": "code",
   "execution_count": 6,
   "id": "36263973-ac51-4e2b-9a0b-dafac51f324b",
   "metadata": {},
   "outputs": [],
   "source": [
    "# Answer: we can write a single-line comment by adding a single '#' character before any statement or line of code"
   ]
  },
  {
   "cell_type": "markdown",
   "id": "ec6f68dc-301d-4f3b-b6cb-fafd09ba59e2",
   "metadata": {},
   "source": [
    "8. Mention functions which can help us to find the version of python that we are currently working on?"
   ]
  },
  {
   "cell_type": "code",
   "execution_count": null,
   "id": "1dbc81ea-1a62-4f20-a569-5eb3ea76c80d",
   "metadata": {},
   "outputs": [],
   "source": [
    "# Answer: The function sys. version can help us to find the version of python that we are currently working on"
   ]
  },
  {
   "cell_type": "markdown",
   "id": "fade6950-fa13-4a24-9d71-2a5228b83642",
   "metadata": {},
   "source": [
    "9. Python supports the creation of anonymous functions at runtime, using a construct called"
   ]
  },
  {
   "cell_type": "code",
   "execution_count": 7,
   "id": "c57e9528-ca8d-4042-bb5a-a9685a1bef3e",
   "metadata": {},
   "outputs": [],
   "source": [
    "# Answer: lambda"
   ]
  },
  {
   "cell_type": "markdown",
   "id": "4af429db-2a1e-4691-8863-ffb8bfdd2b8e",
   "metadata": {},
   "source": [
    "10. What does pip stand for python?"
   ]
  },
  {
   "cell_type": "code",
   "execution_count": null,
   "id": "b9142e22-4635-479d-9804-40baab2885b9",
   "metadata": {},
   "outputs": [],
   "source": [
    "# Answwer: installing Python packages"
   ]
  },
  {
   "cell_type": "markdown",
   "id": "866dea38-666d-4c92-a22b-3b71abe74168",
   "metadata": {},
   "source": [
    "11. Mention a few built-in functions in python?"
   ]
  },
  {
   "cell_type": "code",
   "execution_count": 8,
   "id": "f938b341-f726-4236-ab42-d6ac0abff4b8",
   "metadata": {},
   "outputs": [
    {
     "data": {
      "text/plain": [
       "'\\ninput()\\tAllowing user input\\nint()\\tReturns an integer number\\nfloat()\\tReturns a floating point number\\niter()\\tReturns an iterator object\\nlen()\\tReturns the length of an object\\nlist()\\tReturns a list\\n'"
      ]
     },
     "execution_count": 8,
     "metadata": {},
     "output_type": "execute_result"
    }
   ],
   "source": [
    "# Answer:\n",
    "'''\n",
    "input()\tAllowing user input\n",
    "int()\tReturns an integer number\n",
    "float()\tReturns a floating point number\n",
    "iter()\tReturns an iterator object\n",
    "len()\tReturns the length of an object\n",
    "list()\tReturns a list\n",
    "'''"
   ]
  },
  {
   "cell_type": "markdown",
   "id": "3ce7e959-5341-4c61-9881-2b1c1f502f57",
   "metadata": {},
   "source": [
    "12. What is the maximum possible length of an identifier in Python?"
   ]
  },
  {
   "cell_type": "code",
   "execution_count": 9,
   "id": "ac7567a6-3b9b-43b2-846f-8b371138e73c",
   "metadata": {},
   "outputs": [],
   "source": [
    "# Answer: An identifier can have a maximum length of 79 characters in Python"
   ]
  },
  {
   "cell_type": "markdown",
   "id": "454f124b-814b-4bd6-a30c-3e0a4d420c73",
   "metadata": {},
   "source": [
    "13. What are the benefits of using Python?"
   ]
  },
  {
   "cell_type": "code",
   "execution_count": 10,
   "id": "1b6117da-82af-4b6b-8bdf-0b1a55ec4d57",
   "metadata": {},
   "outputs": [],
   "source": [
    "# Data science.\n",
    "# Scientific and mathematical computing.\n",
    "# Web development.\n",
    "# Finance and trading"
   ]
  },
  {
   "cell_type": "markdown",
   "id": "83dd82c5-fe54-4ce1-b528-6d5038d04f28",
   "metadata": {},
   "source": [
    "14. How is memory managed in Python?"
   ]
  },
  {
   "cell_type": "code",
   "execution_count": 13,
   "id": "c00edc13-0c5c-442f-a920-96695f9a53c0",
   "metadata": {},
   "outputs": [],
   "source": [
    "# Answer: Memory management in Python involves a private heap containing all Python objects and data structures."
   ]
  },
  {
   "cell_type": "markdown",
   "id": "2b5026dd-2c25-4111-ad11-b2ddbed49a88",
   "metadata": {},
   "source": [
    "15. How to install Python on Windows and set path variables?"
   ]
  },
  {
   "cell_type": "code",
   "execution_count": 11,
   "id": "4df41f78-89ae-4ffb-b447-d24d78b7e9c4",
   "metadata": {},
   "outputs": [],
   "source": [
    "# Right-clicking This PC and going to Properties.\n",
    "# Clicking on the Environment Variables button on the bottom right.\n",
    "# In the System variables section, selecting the Path variable and clicking on Edit. The next screen will show all the directories that are currently a part of the PATH variable.\n",
    "# Clicking on New and entering Python’s install directory."
   ]
  },
  {
   "cell_type": "markdown",
   "id": "c427725b-e6c1-40af-9772-9da65945ad96",
   "metadata": {},
   "source": [
    "16. is indentation required in python?"
   ]
  },
  {
   "cell_type": "code",
   "execution_count": 12,
   "id": "cc2af4aa-d41e-43c8-a551-e849798d867b",
   "metadata": {},
   "outputs": [],
   "source": [
    "# Answer: Yes,indentation required in python"
   ]
  },
  {
   "cell_type": "code",
   "execution_count": null,
   "id": "36ade0b9-0efb-4fba-ae47-332e6817ebe2",
   "metadata": {},
   "outputs": [],
   "source": []
  }
 ],
 "metadata": {
  "kernelspec": {
   "display_name": "Python 3 (ipykernel)",
   "language": "python",
   "name": "python3"
  },
  "language_info": {
   "codemirror_mode": {
    "name": "ipython",
    "version": 3
   },
   "file_extension": ".py",
   "mimetype": "text/x-python",
   "name": "python",
   "nbconvert_exporter": "python",
   "pygments_lexer": "ipython3",
   "version": "3.10.8"
  }
 },
 "nbformat": 4,
 "nbformat_minor": 5
}
